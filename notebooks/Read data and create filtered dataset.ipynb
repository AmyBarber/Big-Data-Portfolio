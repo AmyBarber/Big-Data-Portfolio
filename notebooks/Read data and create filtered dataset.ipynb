{
 "cells": [
  {
   "cell_type": "markdown",
   "id": "6dadc46a",
   "metadata": {},
   "source": [
    "## Task Definition"
   ]
  },
  {
   "cell_type": "markdown",
   "id": "1d9a41de",
   "metadata": {},
   "source": [
    "Task: \n",
    "- Create a new dataset in csv format with only records containing comments and without the word COVID in the title. \n",
    "\n",
    "- This new dataset will have only 5 columns: id, title, comments, journal-ref and categories. "
   ]
  },
  {
   "cell_type": "markdown",
   "id": "12fc5ab5",
   "metadata": {},
   "source": [
    "## Imports"
   ]
  },
  {
   "cell_type": "code",
   "execution_count": 1,
   "id": "5ce18d74",
   "metadata": {},
   "outputs": [],
   "source": [
    "import pandas as pd\n",
    "import numpy as np\n",
    "import dask.bag as db\n",
    "import dask.dataframe as dd\n",
    "import json"
   ]
  },
  {
   "cell_type": "code",
   "execution_count": 2,
   "id": "e4fb2475",
   "metadata": {},
   "outputs": [],
   "source": [
    "from dask.distributed import Client, LocalCluster\n",
    "\n",
    "# Creating a local cluster\n",
    "cluster = LocalCluster()\n",
    "\n",
    "# Scaling the cluster to have 8 workers\n",
    "cluster.scale(8)\n",
    "\n",
    "# Enabling adaptive scaling to automatically adjust the number of workers based on workload\n",
    "cluster.adapt(minimum=1, maximum=8)\n",
    "\n",
    "# Creating a client to connect to the cluster\n",
    "client = Client(cluster)"
   ]
  },
  {
   "cell_type": "markdown",
   "id": "fe11901b",
   "metadata": {},
   "source": [
    "## Read JSON File"
   ]
  },
  {
   "cell_type": "code",
   "execution_count": 3,
   "id": "9e3d6d1e",
   "metadata": {},
   "outputs": [],
   "source": [
    "import dask.bag as db\n",
    "import json\n",
    "\n",
    "# Read JSON file with dask.bag\n",
    "docs = db.read_text('../data/raw_data/arxiv-metadata-oai-snapshot.json').map(json.loads)"
   ]
  },
  {
   "cell_type": "code",
   "execution_count": 4,
   "id": "acf69b76",
   "metadata": {},
   "outputs": [
    {
     "data": {
      "text/plain": [
       "({'id': '0704.0001',\n",
       "  'submitter': 'Pavel Nadolsky',\n",
       "  'authors': \"C. Bal\\\\'azs, E. L. Berger, P. M. Nadolsky, C.-P. Yuan\",\n",
       "  'title': 'Calculation of prompt diphoton production cross sections at Tevatron and\\n  LHC energies',\n",
       "  'comments': '37 pages, 15 figures; published version',\n",
       "  'journal-ref': 'Phys.Rev.D76:013009,2007',\n",
       "  'doi': '10.1103/PhysRevD.76.013009',\n",
       "  'report-no': 'ANL-HEP-PR-07-12',\n",
       "  'categories': 'hep-ph',\n",
       "  'license': None,\n",
       "  'abstract': '  A fully differential calculation in perturbative quantum chromodynamics is\\npresented for the production of massive photon pairs at hadron colliders. All\\nnext-to-leading order perturbative contributions from quark-antiquark,\\ngluon-(anti)quark, and gluon-gluon subprocesses are included, as well as\\nall-orders resummation of initial-state gluon radiation valid at\\nnext-to-next-to-leading logarithmic accuracy. The region of phase space is\\nspecified in which the calculation is most reliable. Good agreement is\\ndemonstrated with data from the Fermilab Tevatron, and predictions are made for\\nmore detailed tests with CDF and DO data. Predictions are shown for\\ndistributions of diphoton pairs produced at the energy of the Large Hadron\\nCollider (LHC). Distributions of the diphoton pairs from the decay of a Higgs\\nboson are contrasted with those produced from QCD processes at the LHC, showing\\nthat enhanced sensitivity to the signal can be obtained with judicious\\nselection of events.\\n',\n",
       "  'versions': [{'version': 'v1', 'created': 'Mon, 2 Apr 2007 19:18:42 GMT'},\n",
       "   {'version': 'v2', 'created': 'Tue, 24 Jul 2007 20:10:27 GMT'}],\n",
       "  'update_date': '2008-11-26',\n",
       "  'authors_parsed': [['Balázs', 'C.', ''],\n",
       "   ['Berger', 'E. L.', ''],\n",
       "   ['Nadolsky', 'P. M.', ''],\n",
       "   ['Yuan', 'C. -P.', '']]},)"
      ]
     },
     "execution_count": 4,
     "metadata": {},
     "output_type": "execute_result"
    }
   ],
   "source": [
    "# Preview the first record in the data\n",
    "docs.take(1)"
   ]
  },
  {
   "cell_type": "code",
   "execution_count": 5,
   "id": "e22e40ad",
   "metadata": {},
   "outputs": [
    {
     "name": "stderr",
     "output_type": "stream",
     "text": [
      "2023-05-19 13:17:19,759 - distributed.nanny - WARNING - Worker process still alive after 3.1999983215332035 seconds, killing\n",
      "2023-05-19 13:17:19,759 - distributed.nanny - WARNING - Worker process still alive after 3.199998474121094 seconds, killing\n",
      "2023-05-19 13:17:19,759 - distributed.nanny - WARNING - Worker process still alive after 3.199998474121094 seconds, killing\n",
      "2023-05-19 13:17:19,759 - distributed.nanny - WARNING - Worker process still alive after 3.1999989318847657 seconds, killing\n",
      "2023-05-19 13:17:19,759 - distributed.nanny - WARNING - Worker process still alive after 3.1999989318847657 seconds, killing\n",
      "2023-05-19 13:17:19,759 - distributed.nanny - WARNING - Worker process still alive after 3.1999990844726565 seconds, killing\n"
     ]
    },
    {
     "data": {
      "text/plain": [
       "2223467"
      ]
     },
     "execution_count": 5,
     "metadata": {},
     "output_type": "execute_result"
    }
   ],
   "source": [
    "# Calculate the total number of records\n",
    "docs.count().compute()"
   ]
  },
  {
   "cell_type": "markdown",
   "id": "6652a60b",
   "metadata": {},
   "source": [
    "## Filter Data\n",
    "- Only records containing comments\n",
    "- Only records without 'covid' (all cases) in the title"
   ]
  },
  {
   "cell_type": "code",
   "execution_count": 6,
   "id": "2a94958c",
   "metadata": {},
   "outputs": [],
   "source": [
    "# Select records with comments\n",
    "docs = docs.filter(lambda record: record['comments'] is not None and record['comments'] != '')"
   ]
  },
  {
   "cell_type": "code",
   "execution_count": 7,
   "id": "4268b5ad",
   "metadata": {},
   "outputs": [],
   "source": [
    "# Select records that do not contain 'covid' in the title (any case format by using .lower())\n",
    "docs = docs.filter(lambda record: 'covid' not in record['title'].lower())"
   ]
  },
  {
   "cell_type": "code",
   "execution_count": 8,
   "id": "fdbc6de7",
   "metadata": {
    "scrolled": true
   },
   "outputs": [
    {
     "data": {
      "text/plain": [
       "({'id': '0704.0001',\n",
       "  'submitter': 'Pavel Nadolsky',\n",
       "  'authors': \"C. Bal\\\\'azs, E. L. Berger, P. M. Nadolsky, C.-P. Yuan\",\n",
       "  'title': 'Calculation of prompt diphoton production cross sections at Tevatron and\\n  LHC energies',\n",
       "  'comments': '37 pages, 15 figures; published version',\n",
       "  'journal-ref': 'Phys.Rev.D76:013009,2007',\n",
       "  'doi': '10.1103/PhysRevD.76.013009',\n",
       "  'report-no': 'ANL-HEP-PR-07-12',\n",
       "  'categories': 'hep-ph',\n",
       "  'license': None,\n",
       "  'abstract': '  A fully differential calculation in perturbative quantum chromodynamics is\\npresented for the production of massive photon pairs at hadron colliders. All\\nnext-to-leading order perturbative contributions from quark-antiquark,\\ngluon-(anti)quark, and gluon-gluon subprocesses are included, as well as\\nall-orders resummation of initial-state gluon radiation valid at\\nnext-to-next-to-leading logarithmic accuracy. The region of phase space is\\nspecified in which the calculation is most reliable. Good agreement is\\ndemonstrated with data from the Fermilab Tevatron, and predictions are made for\\nmore detailed tests with CDF and DO data. Predictions are shown for\\ndistributions of diphoton pairs produced at the energy of the Large Hadron\\nCollider (LHC). Distributions of the diphoton pairs from the decay of a Higgs\\nboson are contrasted with those produced from QCD processes at the LHC, showing\\nthat enhanced sensitivity to the signal can be obtained with judicious\\nselection of events.\\n',\n",
       "  'versions': [{'version': 'v1', 'created': 'Mon, 2 Apr 2007 19:18:42 GMT'},\n",
       "   {'version': 'v2', 'created': 'Tue, 24 Jul 2007 20:10:27 GMT'}],\n",
       "  'update_date': '2008-11-26',\n",
       "  'authors_parsed': [['Balázs', 'C.', ''],\n",
       "   ['Berger', 'E. L.', ''],\n",
       "   ['Nadolsky', 'P. M.', ''],\n",
       "   ['Yuan', 'C. -P.', '']]},\n",
       " {'id': '0704.0002',\n",
       "  'submitter': 'Louis Theran',\n",
       "  'authors': 'Ileana Streinu and Louis Theran',\n",
       "  'title': 'Sparsity-certifying Graph Decompositions',\n",
       "  'comments': 'To appear in Graphs and Combinatorics',\n",
       "  'journal-ref': None,\n",
       "  'doi': None,\n",
       "  'report-no': None,\n",
       "  'categories': 'math.CO cs.CG',\n",
       "  'license': 'http://arxiv.org/licenses/nonexclusive-distrib/1.0/',\n",
       "  'abstract': '  We describe a new algorithm, the $(k,\\\\ell)$-pebble game with colors, and use\\nit obtain a characterization of the family of $(k,\\\\ell)$-sparse graphs and\\nalgorithmic solutions to a family of problems concerning tree decompositions of\\ngraphs. Special instances of sparse graphs appear in rigidity theory and have\\nreceived increased attention in recent years. In particular, our colored\\npebbles generalize and strengthen the previous results of Lee and Streinu and\\ngive a new proof of the Tutte-Nash-Williams characterization of arboricity. We\\nalso present a new decomposition that certifies sparsity based on the\\n$(k,\\\\ell)$-pebble game with colors. Our work also exposes connections between\\npebble game algorithms and previous sparse graph algorithms by Gabow, Gabow and\\nWestermann and Hendrickson.\\n',\n",
       "  'versions': [{'version': 'v1', 'created': 'Sat, 31 Mar 2007 02:26:18 GMT'},\n",
       "   {'version': 'v2', 'created': 'Sat, 13 Dec 2008 17:26:00 GMT'}],\n",
       "  'update_date': '2008-12-13',\n",
       "  'authors_parsed': [['Streinu', 'Ileana', ''], ['Theran', 'Louis', '']]},\n",
       " {'id': '0704.0003',\n",
       "  'submitter': 'Hongjun Pan',\n",
       "  'authors': 'Hongjun Pan',\n",
       "  'title': 'The evolution of the Earth-Moon system based on the dark matter field\\n  fluid model',\n",
       "  'comments': '23 pages, 3 figures',\n",
       "  'journal-ref': None,\n",
       "  'doi': None,\n",
       "  'report-no': None,\n",
       "  'categories': 'physics.gen-ph',\n",
       "  'license': None,\n",
       "  'abstract': \"  The evolution of Earth-Moon system is described by the dark matter field\\nfluid model proposed in the Meeting of Division of Particle and Field 2004,\\nAmerican Physical Society. The current behavior of the Earth-Moon system agrees\\nwith this model very well and the general pattern of the evolution of the\\nMoon-Earth system described by this model agrees with geological and fossil\\nevidence. The closest distance of the Moon to Earth was about 259000 km at 4.5\\nbillion years ago, which is far beyond the Roche's limit. The result suggests\\nthat the tidal friction may not be the primary cause for the evolution of the\\nEarth-Moon system. The average dark matter field fluid constant derived from\\nEarth-Moon system data is 4.39 x 10^(-22) s^(-1)m^(-1). This model predicts\\nthat the Mars's rotation is also slowing with the angular acceleration rate\\nabout -4.38 x 10^(-22) rad s^(-2).\\n\",\n",
       "  'versions': [{'version': 'v1', 'created': 'Sun, 1 Apr 2007 20:46:54 GMT'},\n",
       "   {'version': 'v2', 'created': 'Sat, 8 Dec 2007 23:47:24 GMT'},\n",
       "   {'version': 'v3', 'created': 'Sun, 13 Jan 2008 00:36:28 GMT'}],\n",
       "  'update_date': '2008-01-13',\n",
       "  'authors_parsed': [['Pan', 'Hongjun', '']]},\n",
       " {'id': '0704.0004',\n",
       "  'submitter': 'David Callan',\n",
       "  'authors': 'David Callan',\n",
       "  'title': 'A determinant of Stirling cycle numbers counts unlabeled acyclic\\n  single-source automata',\n",
       "  'comments': '11 pages',\n",
       "  'journal-ref': None,\n",
       "  'doi': None,\n",
       "  'report-no': None,\n",
       "  'categories': 'math.CO',\n",
       "  'license': None,\n",
       "  'abstract': '  We show that a determinant of Stirling cycle numbers counts unlabeled acyclic\\nsingle-source automata. The proof involves a bijection from these automata to\\ncertain marked lattice paths and a sign-reversing involution to evaluate the\\ndeterminant.\\n',\n",
       "  'versions': [{'version': 'v1', 'created': 'Sat, 31 Mar 2007 03:16:14 GMT'}],\n",
       "  'update_date': '2007-05-23',\n",
       "  'authors_parsed': [['Callan', 'David', '']]},\n",
       " {'id': '0704.0006',\n",
       "  'submitter': 'Yue Hin Pong',\n",
       "  'authors': 'Y. H. Pong and C. K. Law',\n",
       "  'title': 'Bosonic characters of atomic Cooper pairs across resonance',\n",
       "  'comments': '6 pages, 4 figures, accepted by PRA',\n",
       "  'journal-ref': None,\n",
       "  'doi': '10.1103/PhysRevA.75.043613',\n",
       "  'report-no': None,\n",
       "  'categories': 'cond-mat.mes-hall',\n",
       "  'license': None,\n",
       "  'abstract': '  We study the two-particle wave function of paired atoms in a Fermi gas with\\ntunable interaction strengths controlled by Feshbach resonance. The Cooper pair\\nwave function is examined for its bosonic characters, which is quantified by\\nthe correction of Bose enhancement factor associated with the creation and\\nannihilation composite particle operators. An example is given for a\\nthree-dimensional uniform gas. Two definitions of Cooper pair wave function are\\nexamined. One of which is chosen to reflect the off-diagonal long range order\\n(ODLRO). Another one corresponds to a pair projection of a BCS state. On the\\nside with negative scattering length, we found that paired atoms described by\\nODLRO are more bosonic than the pair projected definition. It is also found\\nthat at $(k_F a)^{-1} \\\\ge 1$, both definitions give similar results, where more\\nthan 90% of the atoms occupy the corresponding molecular condensates.\\n',\n",
       "  'versions': [{'version': 'v1', 'created': 'Sat, 31 Mar 2007 04:24:59 GMT'}],\n",
       "  'update_date': '2015-05-13',\n",
       "  'authors_parsed': [['Pong', 'Y. H.', ''], ['Law', 'C. K.', '']]},\n",
       " {'id': '0704.0007',\n",
       "  'submitter': 'Alejandro Corichi',\n",
       "  'authors': 'Alejandro Corichi, Tatjana Vukasinac and Jose A. Zapata',\n",
       "  'title': 'Polymer Quantum Mechanics and its Continuum Limit',\n",
       "  'comments': '16 pages, no figures. Typos corrected to match published version',\n",
       "  'journal-ref': 'Phys.Rev.D76:044016,2007',\n",
       "  'doi': '10.1103/PhysRevD.76.044016',\n",
       "  'report-no': 'IGPG-07/03-2',\n",
       "  'categories': 'gr-qc',\n",
       "  'license': None,\n",
       "  'abstract': '  A rather non-standard quantum representation of the canonical commutation\\nrelations of quantum mechanics systems, known as the polymer representation has\\ngained some attention in recent years, due to its possible relation with Planck\\nscale physics. In particular, this approach has been followed in a symmetric\\nsector of loop quantum gravity known as loop quantum cosmology. Here we explore\\ndifferent aspects of the relation between the ordinary Schroedinger theory and\\nthe polymer description. The paper has two parts. In the first one, we derive\\nthe polymer quantum mechanics starting from the ordinary Schroedinger theory\\nand show that the polymer description arises as an appropriate limit. In the\\nsecond part we consider the continuum limit of this theory, namely, the reverse\\nprocess in which one starts from the discrete theory and tries to recover back\\nthe ordinary Schroedinger quantum mechanics. We consider several examples of\\ninterest, including the harmonic oscillator, the free particle and a simple\\ncosmological model.\\n',\n",
       "  'versions': [{'version': 'v1', 'created': 'Sat, 31 Mar 2007 04:27:22 GMT'},\n",
       "   {'version': 'v2', 'created': 'Wed, 22 Aug 2007 22:42:11 GMT'}],\n",
       "  'update_date': '2008-11-26',\n",
       "  'authors_parsed': [['Corichi', 'Alejandro', ''],\n",
       "   ['Vukasinac', 'Tatjana', ''],\n",
       "   ['Zapata', 'Jose A.', '']]},\n",
       " {'id': '0704.0008',\n",
       "  'submitter': 'Damian Swift',\n",
       "  'authors': 'Damian C. Swift',\n",
       "  'title': 'Numerical solution of shock and ramp compression for general material\\n  properties',\n",
       "  'comments': 'Minor corrections',\n",
       "  'journal-ref': 'Journal of Applied Physics, vol 104, 073536 (2008)',\n",
       "  'doi': '10.1063/1.2975338',\n",
       "  'report-no': 'LA-UR-07-2051, LLNL-JRNL-410358',\n",
       "  'categories': 'cond-mat.mtrl-sci',\n",
       "  'license': 'http://arxiv.org/licenses/nonexclusive-distrib/1.0/',\n",
       "  'abstract': '  A general formulation was developed to represent material models for\\napplications in dynamic loading. Numerical methods were devised to calculate\\nresponse to shock and ramp compression, and ramp decompression, generalizing\\nprevious solutions for scalar equations of state. The numerical methods were\\nfound to be flexible and robust, and matched analytic results to a high\\naccuracy. The basic ramp and shock solution methods were coupled to solve for\\ncomposite deformation paths, such as shock-induced impacts, and shock\\ninteractions with a planar interface between different materials. These\\ncalculations capture much of the physics of typical material dynamics\\nexperiments, without requiring spatially-resolving simulations. Example\\ncalculations were made of loading histories in metals, illustrating the effects\\nof plastic work on the temperatures induced in quasi-isentropic and\\nshock-release experiments, and the effect of a phase transition.\\n',\n",
       "  'versions': [{'version': 'v1', 'created': 'Sat, 31 Mar 2007 04:47:20 GMT'},\n",
       "   {'version': 'v2', 'created': 'Thu, 10 Apr 2008 08:42:28 GMT'},\n",
       "   {'version': 'v3', 'created': 'Tue, 1 Jul 2008 18:54:28 GMT'}],\n",
       "  'update_date': '2009-02-05',\n",
       "  'authors_parsed': [['Swift', 'Damian C.', '']]},\n",
       " {'id': '0704.0010',\n",
       "  'submitter': 'Sergei Ovchinnikov',\n",
       "  'authors': 'Sergei Ovchinnikov',\n",
       "  'title': 'Partial cubes: structures, characterizations, and constructions',\n",
       "  'comments': '36 pages, 17 figures',\n",
       "  'journal-ref': None,\n",
       "  'doi': None,\n",
       "  'report-no': None,\n",
       "  'categories': 'math.CO',\n",
       "  'license': None,\n",
       "  'abstract': \"  Partial cubes are isometric subgraphs of hypercubes. Structures on a graph\\ndefined by means of semicubes, and Djokovi\\\\'{c}'s and Winkler's relations play\\nan important role in the theory of partial cubes. These structures are employed\\nin the paper to characterize bipartite graphs and partial cubes of arbitrary\\ndimension. New characterizations are established and new proofs of some known\\nresults are given.\\n  The operations of Cartesian product and pasting, and expansion and\\ncontraction processes are utilized in the paper to construct new partial cubes\\nfrom old ones. In particular, the isometric and lattice dimensions of finite\\npartial cubes obtained by means of these operations are calculated.\\n\",\n",
       "  'versions': [{'version': 'v1', 'created': 'Sat, 31 Mar 2007 05:10:16 GMT'}],\n",
       "  'update_date': '2007-05-23',\n",
       "  'authors_parsed': [['Ovchinnikov', 'Sergei', '']]},\n",
       " {'id': '0704.0011',\n",
       "  'submitter': 'Clifton Cunningham',\n",
       "  'authors': 'Clifton Cunningham and Lassina Dembele',\n",
       "  'title': 'Computing genus 2 Hilbert-Siegel modular forms over $\\\\Q(\\\\sqrt{5})$ via\\n  the Jacquet-Langlands correspondence',\n",
       "  'comments': '14 pages; title changed; to appear in Experimental Mathematics',\n",
       "  'journal-ref': None,\n",
       "  'doi': None,\n",
       "  'report-no': None,\n",
       "  'categories': 'math.NT math.AG',\n",
       "  'license': 'http://arxiv.org/licenses/nonexclusive-distrib/1.0/',\n",
       "  'abstract': '  In this paper we present an algorithm for computing Hecke eigensystems of\\nHilbert-Siegel cusp forms over real quadratic fields of narrow class number\\none. We give some illustrative examples using the quadratic field\\n$\\\\Q(\\\\sqrt{5})$. In those examples, we identify Hilbert-Siegel eigenforms that\\nare possible lifts from Hilbert eigenforms.\\n',\n",
       "  'versions': [{'version': 'v1', 'created': 'Sat, 31 Mar 2007 05:32:49 GMT'},\n",
       "   {'version': 'v2', 'created': 'Tue, 19 Aug 2008 04:46:47 GMT'},\n",
       "   {'version': 'v3', 'created': 'Wed, 20 Aug 2008 13:15:09 GMT'}],\n",
       "  'update_date': '2008-08-20',\n",
       "  'authors_parsed': [['Cunningham', 'Clifton', ''],\n",
       "   ['Dembele', 'Lassina', '']]},\n",
       " {'id': '0704.0014',\n",
       "  'submitter': 'Koichi Fujii',\n",
       "  'authors': 'Koichi Fujii',\n",
       "  'title': 'Iterated integral and the loop product',\n",
       "  'comments': '18 pages, 1 figure',\n",
       "  'journal-ref': None,\n",
       "  'doi': None,\n",
       "  'report-no': None,\n",
       "  'categories': 'math.CA math.AT',\n",
       "  'license': None,\n",
       "  'abstract': \"  In this article we discuss a relation between the string topology and\\ndifferential forms based on the theory of Chen's iterated integrals and the\\ncyclic bar complex.\\n\",\n",
       "  'versions': [{'version': 'v1', 'created': 'Sun, 1 Apr 2007 12:04:13 GMT'}],\n",
       "  'update_date': '2009-09-29',\n",
       "  'authors_parsed': [['Fujii', 'Koichi', '']]})"
      ]
     },
     "execution_count": 8,
     "metadata": {},
     "output_type": "execute_result"
    }
   ],
   "source": [
    "# Preview 10 filtered records \n",
    "docs.take(10)"
   ]
  },
  {
   "cell_type": "code",
   "execution_count": 9,
   "id": "71742841",
   "metadata": {
    "scrolled": true
   },
   "outputs": [],
   "source": [
    "import dask.dataframe as dd\n",
    "\n",
    "def flatten(record):\n",
    "    \"\"\"Flatten a record by extracting specific fields\"\"\"\n",
    "    \n",
    "    return {\n",
    "        'id': record['id'],\n",
    "        'title': record['title'],\n",
    "        'comments': record['comments'],\n",
    "        'journal-ref': record['journal-ref'],\n",
    "        'categories': record['categories']\n",
    "    }\n",
    "\n",
    "# Apply the 'flatten' function to each record in 'docs',\n",
    "# Convert the flattened Dask Bag to a Dask DataFrame\n",
    "ddf = docs.map(flatten).to_dataframe()"
   ]
  },
  {
   "cell_type": "code",
   "execution_count": 10,
   "id": "30ffdf0b",
   "metadata": {},
   "outputs": [
    {
     "data": {
      "text/html": [
       "<div>\n",
       "<style scoped>\n",
       "    .dataframe tbody tr th:only-of-type {\n",
       "        vertical-align: middle;\n",
       "    }\n",
       "\n",
       "    .dataframe tbody tr th {\n",
       "        vertical-align: top;\n",
       "    }\n",
       "\n",
       "    .dataframe thead th {\n",
       "        text-align: right;\n",
       "    }\n",
       "</style>\n",
       "<table border=\"1\" class=\"dataframe\">\n",
       "  <thead>\n",
       "    <tr style=\"text-align: right;\">\n",
       "      <th></th>\n",
       "      <th>id</th>\n",
       "      <th>title</th>\n",
       "      <th>comments</th>\n",
       "      <th>journal-ref</th>\n",
       "      <th>categories</th>\n",
       "    </tr>\n",
       "  </thead>\n",
       "  <tbody>\n",
       "    <tr>\n",
       "      <th>0</th>\n",
       "      <td>0704.0001</td>\n",
       "      <td>Calculation of prompt diphoton production cros...</td>\n",
       "      <td>37 pages, 15 figures; published version</td>\n",
       "      <td>Phys.Rev.D76:013009,2007</td>\n",
       "      <td>hep-ph</td>\n",
       "    </tr>\n",
       "    <tr>\n",
       "      <th>1</th>\n",
       "      <td>0704.0002</td>\n",
       "      <td>Sparsity-certifying Graph Decompositions</td>\n",
       "      <td>To appear in Graphs and Combinatorics</td>\n",
       "      <td>None</td>\n",
       "      <td>math.CO cs.CG</td>\n",
       "    </tr>\n",
       "    <tr>\n",
       "      <th>2</th>\n",
       "      <td>0704.0003</td>\n",
       "      <td>The evolution of the Earth-Moon system based o...</td>\n",
       "      <td>23 pages, 3 figures</td>\n",
       "      <td>None</td>\n",
       "      <td>physics.gen-ph</td>\n",
       "    </tr>\n",
       "    <tr>\n",
       "      <th>3</th>\n",
       "      <td>0704.0004</td>\n",
       "      <td>A determinant of Stirling cycle numbers counts...</td>\n",
       "      <td>11 pages</td>\n",
       "      <td>None</td>\n",
       "      <td>math.CO</td>\n",
       "    </tr>\n",
       "    <tr>\n",
       "      <th>4</th>\n",
       "      <td>0704.0006</td>\n",
       "      <td>Bosonic characters of atomic Cooper pairs acro...</td>\n",
       "      <td>6 pages, 4 figures, accepted by PRA</td>\n",
       "      <td>None</td>\n",
       "      <td>cond-mat.mes-hall</td>\n",
       "    </tr>\n",
       "  </tbody>\n",
       "</table>\n",
       "</div>"
      ],
      "text/plain": [
       "          id                                              title  \\\n",
       "0  0704.0001  Calculation of prompt diphoton production cros...   \n",
       "1  0704.0002           Sparsity-certifying Graph Decompositions   \n",
       "2  0704.0003  The evolution of the Earth-Moon system based o...   \n",
       "3  0704.0004  A determinant of Stirling cycle numbers counts...   \n",
       "4  0704.0006  Bosonic characters of atomic Cooper pairs acro...   \n",
       "\n",
       "                                  comments               journal-ref  \\\n",
       "0  37 pages, 15 figures; published version  Phys.Rev.D76:013009,2007   \n",
       "1    To appear in Graphs and Combinatorics                      None   \n",
       "2                      23 pages, 3 figures                      None   \n",
       "3                                 11 pages                      None   \n",
       "4      6 pages, 4 figures, accepted by PRA                      None   \n",
       "\n",
       "          categories  \n",
       "0             hep-ph  \n",
       "1      math.CO cs.CG  \n",
       "2     physics.gen-ph  \n",
       "3            math.CO  \n",
       "4  cond-mat.mes-hall  "
      ]
     },
     "execution_count": 10,
     "metadata": {},
     "output_type": "execute_result"
    }
   ],
   "source": [
    "# Preview dask dataframe\n",
    "ddf.head()"
   ]
  },
  {
   "cell_type": "code",
   "execution_count": 11,
   "id": "4555c029",
   "metadata": {},
   "outputs": [
    {
     "data": {
      "text/plain": [
       "1704135"
      ]
     },
     "execution_count": 11,
     "metadata": {},
     "output_type": "execute_result"
    }
   ],
   "source": [
    "len(ddf)"
   ]
  },
  {
   "cell_type": "code",
   "execution_count": 12,
   "id": "3f467c5e",
   "metadata": {},
   "outputs": [],
   "source": [
    "ddf = ddf.dropna(subset=['comments'])  "
   ]
  },
  {
   "cell_type": "code",
   "execution_count": 13,
   "id": "afe7a25d",
   "metadata": {},
   "outputs": [
    {
     "data": {
      "text/plain": [
       "1704135"
      ]
     },
     "execution_count": 13,
     "metadata": {},
     "output_type": "execute_result"
    }
   ],
   "source": [
    "# Print length of dataframe\n",
    "len(ddf)"
   ]
  },
  {
   "cell_type": "code",
   "execution_count": 14,
   "id": "cb188001",
   "metadata": {},
   "outputs": [
    {
     "data": {
      "text/plain": [
       "1704135"
      ]
     },
     "execution_count": 14,
     "metadata": {},
     "output_type": "execute_result"
    }
   ],
   "source": [
    "# Compute dask dataframe to pandas dataframe\n",
    "df = ddf.compute()\n",
    "len(df)"
   ]
  },
  {
   "cell_type": "code",
   "execution_count": null,
   "id": "15777fe1",
   "metadata": {},
   "outputs": [],
   "source": [
    "# Save dataframe to CSV file\n",
    "df.to_csv('../data/processed_data/filtered_arxiv_dataset.csv')"
   ]
  },
  {
   "cell_type": "code",
   "execution_count": null,
   "id": "ed86d52c",
   "metadata": {},
   "outputs": [],
   "source": [
    "# Close clusters\n",
    "cluster.close()"
   ]
  }
 ],
 "metadata": {
  "kernelspec": {
   "display_name": "Python 3 (ipykernel)",
   "language": "python",
   "name": "python3"
  },
  "language_info": {
   "codemirror_mode": {
    "name": "ipython",
    "version": 3
   },
   "file_extension": ".py",
   "mimetype": "text/x-python",
   "name": "python",
   "nbconvert_exporter": "python",
   "pygments_lexer": "ipython3",
   "version": "3.10.11"
  },
  "toc": {
   "base_numbering": 1,
   "nav_menu": {},
   "number_sections": true,
   "sideBar": true,
   "skip_h1_title": false,
   "title_cell": "Table of Contents",
   "title_sidebar": "Contents",
   "toc_cell": false,
   "toc_position": {},
   "toc_section_display": true,
   "toc_window_display": false
  }
 },
 "nbformat": 4,
 "nbformat_minor": 5
}
